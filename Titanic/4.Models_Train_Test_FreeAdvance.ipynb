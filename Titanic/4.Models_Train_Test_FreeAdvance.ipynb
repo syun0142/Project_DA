{
 "cells": [
  {
   "cell_type": "code",
   "execution_count": 206,
   "id": "6716a22e-3256-4b4f-8ad4-0185b2f9d510",
   "metadata": {},
   "outputs": [],
   "source": [
    "#1.데이터 로드\n",
    "import numpy as np\n",
    "import pandas as pd\n",
    "train = pd.read_csv('data/train.csv')\n",
    "\n",
    "X_train = train.drop(columns='Survived')\n",
    "y_train = train['Survived']\n",
    "\n",
    "X_test = pd.read_csv('data/test.csv')\n",
    "PassengerId = X_test['PassengerId'].copy()"
   ]
  },
  {
   "cell_type": "code",
   "execution_count": 207,
   "id": "edf30907-db6c-4de8-b310-feb39838b879",
   "metadata": {},
   "outputs": [
    {
     "name": "stdout",
     "output_type": "stream",
     "text": [
      "<class 'pandas.core.frame.DataFrame'>\n",
      "RangeIndex: 891 entries, 0 to 890\n",
      "Data columns (total 12 columns):\n",
      " #   Column       Non-Null Count  Dtype  \n",
      "---  ------       --------------  -----  \n",
      " 0   PassengerId  891 non-null    int64  \n",
      " 1   Survived     891 non-null    int64  \n",
      " 2   Pclass       891 non-null    int64  \n",
      " 3   Name         891 non-null    object \n",
      " 4   Sex          891 non-null    object \n",
      " 5   Age          714 non-null    float64\n",
      " 6   SibSp        891 non-null    int64  \n",
      " 7   Parch        891 non-null    int64  \n",
      " 8   Ticket       891 non-null    object \n",
      " 9   Fare         891 non-null    float64\n",
      " 10  Cabin        204 non-null    object \n",
      " 11  Embarked     889 non-null    object \n",
      "dtypes: float64(2), int64(5), object(5)\n",
      "memory usage: 83.7+ KB\n",
      "None\n"
     ]
    },
    {
     "data": {
      "text/plain": [
       "Survived\n",
       "0    549\n",
       "1    342\n",
       "Name: count, dtype: int64"
      ]
     },
     "execution_count": 207,
     "metadata": {},
     "output_type": "execute_result"
    },
    {
     "data": {
      "image/png": "[encoded data removed]",
      "text/plain": [
       "<Figure size 800x600 with 1 Axes>"
      ]
     },
     "metadata": {},
     "output_type": "display_data"
    }
   ],
   "source": [
    "#2.EDA\n",
    "import seaborn as sns\n",
    "\n",
    "def graph(variable):\n",
    "    survived = train[train['Survived']==1][variable].value_counts()\n",
    "    dead = train[train['Survived']==0][variable].value_counts()\n",
    "    result = pd.DataFrame([survived,dead])\n",
    "    result.index = ['Survived','Dead']\n",
    "    result.T.plot(kind='bar', color=['skyblue','gray'], rot=0, figsize=(8,6))\n",
    "\n",
    "print(train.info())\n",
    "#graph('Parch')"
   ]
  },
  {
   "cell_type": "code",
   "execution_count": 208,
   "id": "21f5c3aa-df94-4a51-aa7c-f24e3f6c66b3",
   "metadata": {},
   "outputs": [],
   "source": [
    "#3.데이터 정제\n",
    "\n",
    "#print(X_train.info())\n",
    "#print(X_train['Fare'].unique())\n",
    "#print(X_train.select_dtypes('object').nunique())\n",
    "\n",
    "#불필요한 컬럼 제거\n",
    "X_train = X_train.drop(columns=['PassengerId','Name','Ticket','Cabin'])\n",
    "X_test = X_test.drop(columns=['PassengerId','Name','Ticket','Cabin'])\n",
    "\n",
    "#SibSp, Parch 컬럼 통합\n",
    "X_train['family'] = X_train['SibSp']+X_train['Parch']\n",
    "X_train = X_train.drop(columns=['SibSp','Parch'])\n",
    "\n",
    "X_test['family'] = X_test['SibSp']+X_test['Parch']\n",
    "X_test = X_test.drop(columns=['SibSp','Parch'])"
   ]
  },
  {
   "cell_type": "code",
   "execution_count": 209,
   "id": "84d32119-819b-4924-9c25-2ced4f1daba5",
   "metadata": {},
   "outputs": [],
   "source": [
    "#4.결측치 처리\n",
    "X_train['Age'] = X_train['Age'].fillna(X_train['Age'].mean())\n",
    "X_test['Age'] = X_test['Age'].fillna(X_train['Age'].mean())\n",
    "\n",
    "X_train['Embarked'] = X_train['Embarked'].fillna(X_train['Embarked'].value_counts().idxmax())\n",
    "X_test['Embarked'] = X_test['Embarked'].fillna(X_train['Embarked'].value_counts().idxmax())\n",
    "\n",
    "X_train['Fare'] = X_train['Fare'].fillna(X_train['Fare'].mean())\n",
    "X_test['Fare'] = X_test['Fare'].fillna(X_train['Fare'].mean())"
   ]
  },
  {
   "cell_type": "code",
   "execution_count": 210,
   "id": "8ba1c7a1-f97a-4111-86d8-61d290ae44af",
   "metadata": {},
   "outputs": [],
   "source": [
    "# #BK_4.Age컬럼 결측치 대체법\n",
    "# #범주형은 인코딩하고, corr()을 이용해서 상관계수 높은 컬럼 추출\n",
    "\n",
    "# #print(X_train.info())\n",
    "# #print(X_train.select_dtypes('object').nunique())\n",
    "\n",
    "# #X_train = pd.get_dummies(X_train,columns=['Sex','Embarked'])\n",
    "\n",
    "# #X_train[['Age','Fare','Parch','SibSp','Pclass','Sex_female','Sex_male','Embarked_C','Embarked_Q','Embarked_S','Family']].corr()['Age']\n",
    "\n",
    "# #그 컬럼별 group by해서 age 평균을 각 행의 결측치에 대체\n",
    "\n",
    "# Age_By_train = pd.DataFrame(X_train.groupby(['Pclass','family'])['Age'].mean())\n",
    "# Age_By_train = Age_By_train.reset_index()\n",
    "\n",
    "# Age_By_test = pd.DataFrame(X_test.groupby(['Pclass','family'])['Age'].mean())\n",
    "# Age_By_test = Age_By_test.reset_index()\n",
    "\n",
    "\n",
    "# for index, row in Age_By_Pclass.iterrows():\n",
    "#     X_train.loc[(X_train['Pclass'] == row['Pclass']) & (X_train['family'] == row['family']) & (X_train['Age'].isna()), 'Age'] = row['Age']\n",
    "#     X_test.loc[(X_test['Pclass'] == row['Pclass']) & (X_test['family'] == row['family']) & (X_test['Age'].isna()), 'Age'] = row['Age']\n",
    "\n",
    "# # import seaborn as sns\n",
    "# # import matplotlib.pyplot as plt\n",
    "\n",
    "# # fig,ax = plt.subplots(2,figsize=(40,30))\n",
    "# # sns.countplot(data=X_train,x='Age',ax=ax[0])\n",
    "# # sns.countplot(data=X_test,x='Age',ax=ax[1])\n",
    "# # plt.show()"
   ]
  },
  {
   "cell_type": "code",
   "execution_count": 211,
   "id": "ab931bcb-e7bc-43b2-8bb2-bfb9ac913fb5",
   "metadata": {},
   "outputs": [],
   "source": [
    "#5.인코딩\n",
    "X_train = pd.get_dummies(X_train,columns=['Sex','Embarked','Pclass'])\n",
    "X_test = pd.get_dummies(X_test,columns=['Sex','Embarked','Pclass'])\n",
    "\n",
    "X_train_enc = X_train.select_dtypes('bool').astype('int')\n",
    "X_test_enc = X_test.select_dtypes('bool').astype('int')"
   ]
  },
  {
   "cell_type": "code",
   "execution_count": 212,
   "id": "6ba9b552-0097-4537-b2dc-97eb93b69460",
   "metadata": {},
   "outputs": [],
   "source": [
    "#6.스케일링\n",
    "from sklearn.preprocessing import StandardScaler\n",
    "\n",
    "X_train_num = X_train.select_dtypes(exclude='bool').copy()\n",
    "X_test_num = X_test.select_dtypes(exclude='bool').copy()\n",
    "\n",
    "scale = StandardScaler().fit(X_train_num)\n",
    "\n",
    "X_train_std = scale.transform(X_train_num)\n",
    "X_test_std = scale.transform(X_test_num)\n",
    "\n",
    "X_train_std = pd.DataFrame(X_train_std,columns=['Age','family','Fare'])\n",
    "X_test_std = pd.DataFrame(X_test_std,columns=['Age','family','Fare'])\n",
    "\n",
    "X_train = pd.concat([X_train_std,X_train_enc],axis=1)\n",
    "X_test = pd.concat([X_test_std,X_test_enc],axis=1)"
   ]
  },
  {
   "cell_type": "code",
   "execution_count": 213,
   "id": "8b68bb37-40da-40ea-9878-999f5f55d9a6",
   "metadata": {},
   "outputs": [
    {
     "name": "stdout",
     "output_type": "stream",
     "text": [
      "Optimization terminated successfully.\n",
      "         Current function value: 0.441100\n",
      "         Iterations 6\n",
      "                           Logit Regression Results                           \n",
      "==============================================================================\n",
      "Dep. Variable:               Survived   No. Observations:                  891\n",
      "Model:                          Logit   Df Residuals:                      883\n",
      "Method:                           MLE   Df Model:                            7\n",
      "Date:                Tue, 28 May 2024   Pseudo R-squ.:                  0.3376\n",
      "Time:                        19:51:40   Log-Likelihood:                -393.02\n",
      "converged:                       True   LL-Null:                       -593.33\n",
      "Covariance Type:            nonrobust   LLR p-value:                 1.760e-82\n",
      "==============================================================================\n",
      "                 coef    std err          z      P>|z|      [0.025      0.975]\n",
      "------------------------------------------------------------------------------\n",
      "Age           -0.4924      0.100     -4.935      0.000      -0.688      -0.297\n",
      "family         0.1431      0.110      1.298      0.194      -0.073       0.359\n",
      "Fare          -0.3654      0.108     -3.376      0.001      -0.578      -0.153\n",
      "Sex_female     2.7453      0.198     13.852      0.000       2.357       3.134\n",
      "Embarked_Q    -0.0228      0.366     -0.062      0.950      -0.739       0.694\n",
      "Embarked_S    -0.4061      0.189     -2.149      0.032      -0.777      -0.036\n",
      "Pclass_2      -0.8602      0.262     -3.285      0.001      -1.373      -0.347\n",
      "Pclass_3      -2.0783      0.243     -8.555      0.000      -2.554      -1.602\n",
      "==============================================================================\n"
     ]
    }
   ],
   "source": [
    "#7.특성 선택\n",
    "import statsmodels.api as sm\n",
    "\n",
    "X = X_train.drop(columns=['Sex_male','Embarked_C','Pclass_1'])\n",
    "y = y_train\n",
    "test = X_test.drop(columns=['Sex_male','Embarked_C','Pclass_1'])\n",
    "\n",
    "model = sm.Logit(y,X)\n",
    "model_fit = model.fit()\n",
    "print(model_fit.summary())"
   ]
  },
  {
   "cell_type": "code",
   "execution_count": 214,
   "id": "0fb3e24d-c110-4e51-8868-981c1543d52e",
   "metadata": {},
   "outputs": [],
   "source": [
    "#8.데이터 분리하기\n",
    "from sklearn.model_selection import train_test_split\n",
    "\n",
    "X = X_train[['Age','Fare','Sex_female','Embarked_S','Pclass_2','Pclass_3']]\n",
    "y = y_train\n",
    "test = X_test[['Age','Fare','Sex_female','Embarked_S','Pclass_2','Pclass_3']]\n",
    "\n",
    "X1, X2, y1, y2 = train_test_split(X,y,train_size=0.7,test_size=0.3,random_state=999)"
   ]
  },
  {
   "cell_type": "code",
   "execution_count": 215,
   "id": "2f4a2184-da62-49b2-a10e-d876debd593a",
   "metadata": {},
   "outputs": [
    {
     "name": "stdout",
     "output_type": "stream",
     "text": [
      "[LightGBM] [Info] Number of positive: 245, number of negative: 378\n",
      "[LightGBM] [Info] Auto-choosing row-wise multi-threading, the overhead of testing was 0.000050 seconds.\n",
      "You can set `force_row_wise=true` to remove the overhead.\n",
      "And if memory is not enough, you can set `force_col_wise=true`.\n",
      "[LightGBM] [Info] Total Bins 78\n",
      "[LightGBM] [Info] Number of data points in the train set: 623, number of used features: 6\n",
      "[LightGBM] [Info] [binary:BoostFromScore]: pavg=0.393258 -> initscore=-0.433636\n",
      "[LightGBM] [Info] Start training from score -0.433636\n"
     ]
    }
   ],
   "source": [
    "#9.모델 학습 및 예측\n",
    "from sklearn.linear_model import LogisticRegression\n",
    "from sklearn.ensemble import RandomForestClassifier\n",
    "from xgboost import XGBClassifier\n",
    "from lightgbm import LGBMClassifier\n",
    "from catboost import CatBoostClassifier\n",
    "\n",
    "#LogisticRegression\n",
    "model_lr = LogisticRegression(random_state=999)\n",
    "model_lr.fit(X1,y1)\n",
    "y_predict_lr = model_lr.predict(X2)\n",
    "\n",
    "#RandomForestClassifier\n",
    "model_rf = RandomForestClassifier(\n",
    "                    max_depth=7,\n",
    "                    n_estimators=200,\n",
    "                    max_features='sqrt',\n",
    "                    min_samples_split=2,\n",
    "                    min_samples_leaf=1,\n",
    "                    random_state=999)\n",
    "model_rf.fit(X1,y1)\n",
    "y_predict_rf = model_rf.predict(X2)\n",
    "\n",
    "#XGBClassifier\n",
    "model_xgb = XGBClassifier(\n",
    "                    objective = 'binary:logistic',\n",
    "                    max_depth = 4,\n",
    "                    n_estimators = 18,\n",
    "                    random_state = 999)\n",
    "model_xgb.fit(X1,y1)\n",
    "y_predict_xgb = model_xgb.predict(X2)\n",
    "\n",
    "#LGBMClassifier\n",
    "model_lgbm = LGBMClassifier(\n",
    "                    max_depth = 4,\n",
    "                    num_leaves = 2,\n",
    "                    n_estimators = 400,\n",
    "                    min_child_weight = 10,\n",
    "                    learning_rate = 0.2,\n",
    "                    objective = 'binary',\n",
    "                    random_state = 999)\n",
    "model_lgbm.fit(X1,y1)\n",
    "y_predict_lgbm = model_lgbm.predict(X2)\n",
    "\n",
    "#CatBoostClassifier\n",
    "model_cat = CatBoostClassifier(\n",
    "                    depth=2,\n",
    "                    iterations=100,\n",
    "                    learning_rate=0.2, \n",
    "                    loss_function='MultiClass')\n",
    "model_cat.fit(X1,y1,verbose=False)\n",
    "y_predict_cat = model_cat.predict(X2)\n",
    "y_predict_cat = np.array(y_predict_cat).flatten() #array in array 형태를 array로 변환"
   ]
  },
  {
   "cell_type": "code",
   "execution_count": 216,
   "id": "2ca3a8f3-e963-4f64-a9e4-328c46387ca3",
   "metadata": {},
   "outputs": [
    {
     "name": "stdout",
     "output_type": "stream",
     "text": [
      "0.802\n",
      "0.81\n",
      "0.81\n",
      "0.795\n",
      "0.817\n"
     ]
    }
   ],
   "source": [
    "#10.평가\n",
    "from sklearn.metrics import accuracy_score, confusion_matrix, f1_score, roc_curve, roc_auc_score\n",
    "\n",
    "print(accuracy_score(y2,y_predict_lr).round(3))\n",
    "print(accuracy_score(y2,y_predict_rf).round(3))\n",
    "print(accuracy_score(y2,y_predict_xgb).round(3))\n",
    "print(accuracy_score(y2,y_predict_lgbm).round(3))\n",
    "print(accuracy_score(y2,y_predict_cat).round(3))\n",
    "\n",
    "# print(f1_score(y2,y_predict_lr).round(3))\n",
    "# probas_lr = model_lr.predict_proba(X2)\n",
    "# print(roc_auc_score(y2,probas_lr[:,1]).round(3))"
   ]
  },
  {
   "cell_type": "code",
   "execution_count": 217,
   "id": "3a67961c-afea-4ed0-a93c-94144df2e2e8",
   "metadata": {},
   "outputs": [],
   "source": [
    "#11.제출\n",
    "#XGBClassifier\n",
    "model_rf = RandomForestClassifier(\n",
    "                    max_depth=7,\n",
    "                    n_estimators=200,\n",
    "                    max_features='sqrt',\n",
    "                    min_samples_split=2,\n",
    "                    min_samples_leaf=1,\n",
    "                    random_state=999)\n",
    "model_rf.fit(X,y)\n",
    "y_predict_rf = model_rf.predict(test)\n",
    "\n",
    "obj = {'PassengerId':PassengerId,'Survived':y_predict_rf}\n",
    "result = pd.DataFrame(obj)\n",
    "result.to_csv('result/result.csv', index = False)"
   ]
  }
 ],
 "metadata": {
  "kernelspec": {
   "display_name": "Python 3 (ipykernel)",
   "language": "python",
   "name": "python3"
  },
  "language_info": {
   "codemirror_mode": {
    "name": "ipython",
    "version": 3
   },
   "file_extension": ".py",
   "mimetype": "text/x-python",
   "name": "python",
   "nbconvert_exporter": "python",
   "pygments_lexer": "ipython3",
   "version": "3.11.7"
  }
 },
 "nbformat": 4,
 "nbformat_minor": 5
}
