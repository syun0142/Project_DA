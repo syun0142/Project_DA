{
 "cells": [
  {
   "cell_type": "code",
   "execution_count": 1,
   "id": "6716a22e-3256-4b4f-8ad4-0185b2f9d510",
   "metadata": {},
   "outputs": [],
   "source": [
    "#1.데이터 로드\n",
    "import numpy as np\n",
    "import pandas as pd\n",
    "train = pd.read_csv('data/train.csv')\n",
    "X_train = train.drop(columns='Survived')\n",
    "y_train = train['Survived']\n",
    "\n",
    "X_test = pd.read_csv('data/test.csv')\n",
    "PassengerId = X_test['PassengerId'].copy()"
   ]
  },
  {
   "cell_type": "code",
   "execution_count": 2,
   "id": "edf30907-db6c-4de8-b310-feb39838b879",
   "metadata": {},
   "outputs": [
    {
     "data": {
      "text/plain": [
       "\"\\nimport matplotlib.pyplot as plt\\n\\nprint(X_train.info())\\nX_train[['Fare']].boxplot()\\nplt.show()\\n\""
      ]
     },
     "execution_count": 2,
     "metadata": {},
     "output_type": "execute_result"
    },
    {
     "data": {
      "image/png": "[encoded data removed]",
      "text/plain": [
       "<Figure size 640x480 with 1 Axes>"
      ]
     },
     "metadata": {},
     "output_type": "display_data"
    }
   ],
   "source": [
    "#2.EDA\n",
    "import seaborn as sns\n",
    "sns.countplot(X_train,x='Pclass')\n",
    "\n",
    "'''\n",
    "def graph(variable):\n",
    "    survived = df[df['Survived']==1][variable].value_counts()\n",
    "    dead = df[df['Survived']==0][variable].value_counts()\n",
    "    result = pd.DataFrame([survived,dead])\n",
    "    result.index = ['Survived','Dead']\n",
    "    result.T.plot(kind='bar', color=['skyblue','gray'], rot=0, figsize=(8,6))\n",
    "'''\n",
    "\n",
    "'''\n",
    "import matplotlib.pyplot as plt\n",
    "\n",
    "print(X_train.info())\n",
    "X_train[['Fare']].boxplot()\n",
    "plt.show()\n",
    "'''"
   ]
  },
  {
   "cell_type": "code",
   "execution_count": 3,
   "id": "21f5c3aa-df94-4a51-aa7c-f24e3f6c66b3",
   "metadata": {},
   "outputs": [
    {
     "name": "stdout",
     "output_type": "stream",
     "text": [
      "<class 'pandas.core.frame.DataFrame'>\n",
      "RangeIndex: 891 entries, 0 to 890\n",
      "Data columns (total 11 columns):\n",
      " #   Column       Non-Null Count  Dtype  \n",
      "---  ------       --------------  -----  \n",
      " 0   PassengerId  891 non-null    int64  \n",
      " 1   Pclass       891 non-null    int64  \n",
      " 2   Name         891 non-null    object \n",
      " 3   Sex          891 non-null    object \n",
      " 4   Age          714 non-null    float64\n",
      " 5   SibSp        891 non-null    int64  \n",
      " 6   Parch        891 non-null    int64  \n",
      " 7   Ticket       891 non-null    object \n",
      " 8   Fare         891 non-null    float64\n",
      " 9   Cabin        204 non-null    object \n",
      " 10  Embarked     889 non-null    object \n",
      "dtypes: float64(2), int64(4), object(5)\n",
      "memory usage: 76.7+ KB\n",
      "None\n",
      "[  7.25    71.2833   7.925   53.1      8.05     8.4583  51.8625  21.075\n",
      "  11.1333  30.0708  16.7     26.55    31.275    7.8542  16.      29.125\n",
      "  13.      18.       7.225   26.       8.0292  35.5     31.3875 263.\n",
      "   7.8792   7.8958  27.7208 146.5208   7.75    10.5     82.1708  52.\n",
      "   7.2292  11.2417   9.475   21.      41.5792  15.5     21.6792  17.8\n",
      "  39.6875   7.8     76.7292  61.9792  27.75    46.9     80.      83.475\n",
      "  27.9     15.2458   8.1583   8.6625  73.5     14.4542  56.4958   7.65\n",
      "  29.      12.475    9.       9.5      7.7875  47.1     15.85    34.375\n",
      "  61.175   20.575   34.6542  63.3583  23.      77.2875   8.6542   7.775\n",
      "  24.15     9.825   14.4583 247.5208   7.1417  22.3583   6.975    7.05\n",
      "  14.5     15.0458  26.2833   9.2167  79.2      6.75    11.5     36.75\n",
      "   7.7958  12.525   66.6      7.3125  61.3792   7.7333  69.55    16.1\n",
      "  15.75    20.525   55.      25.925   33.5     30.6958  25.4667  28.7125\n",
      "   0.      15.05    39.      22.025   50.       8.4042   6.4958  10.4625\n",
      "  18.7875  31.     113.275   27.      76.2917  90.       9.35    13.5\n",
      "   7.55    26.25    12.275    7.125   52.5542  20.2125  86.5    512.3292\n",
      "  79.65   153.4625 135.6333  19.5     29.7     77.9583  20.25    78.85\n",
      "  91.0792  12.875    8.85   151.55    30.5     23.25    12.35   110.8833\n",
      " 108.9     24.      56.9292  83.1583 262.375   14.     164.8667 134.5\n",
      "   6.2375  57.9792  28.5    133.65    15.9      9.225   35.      75.25\n",
      "  69.3     55.4417 211.5      4.0125 227.525   15.7417   7.7292  12.\n",
      " 120.      12.65    18.75     6.8583  32.5      7.875   14.4     55.9\n",
      "   8.1125  81.8583  19.2583  19.9667  89.1042  38.5      7.725   13.7917\n",
      "   9.8375   7.0458   7.5208  12.2875   9.5875  49.5042  78.2667  15.1\n",
      "   7.6292  22.525   26.2875  59.4      7.4958  34.0208  93.5    221.7792\n",
      " 106.425   49.5     71.      13.8625   7.8292  39.6     17.4     51.4792\n",
      "  26.3875  30.      40.125    8.7125  15.      33.      42.4     15.55\n",
      "  65.      32.3208   7.0542   8.4333  25.5875   9.8417   8.1375  10.1708\n",
      " 211.3375  57.      13.4167   7.7417   9.4833   7.7375   8.3625  23.45\n",
      "  25.9292   8.6833   8.5167   7.8875  37.0042   6.45     6.95     8.3\n",
      "   6.4375  39.4     14.1083  13.8583  50.4958   5.       9.8458  10.5167]\n",
      "Name        891\n",
      "Sex           2\n",
      "Ticket      681\n",
      "Cabin       147\n",
      "Embarked      3\n",
      "dtype: int64\n"
     ]
    }
   ],
   "source": [
    "#3.불필요한 컬럼 제거\n",
    "print(X_train.info())\n",
    "print(X_train['Fare'].unique())\n",
    "print(X_train.select_dtypes('object').nunique())\n",
    "\n",
    "X_train = X_train.drop(columns=['PassengerId','Name','Ticket','Cabin'])\n",
    "X_test = X_test.drop(columns=['PassengerId','Name','Ticket','Cabin'])"
   ]
  },
  {
   "cell_type": "code",
   "execution_count": 4,
   "id": "84d32119-819b-4924-9c25-2ced4f1daba5",
   "metadata": {},
   "outputs": [
    {
     "name": "stdout",
     "output_type": "stream",
     "text": [
      "<class 'pandas.core.frame.DataFrame'>\n",
      "RangeIndex: 891 entries, 0 to 890\n",
      "Data columns (total 7 columns):\n",
      " #   Column    Non-Null Count  Dtype  \n",
      "---  ------    --------------  -----  \n",
      " 0   Pclass    891 non-null    int64  \n",
      " 1   Sex       891 non-null    object \n",
      " 2   Age       714 non-null    float64\n",
      " 3   SibSp     891 non-null    int64  \n",
      " 4   Parch     891 non-null    int64  \n",
      " 5   Fare      891 non-null    float64\n",
      " 6   Embarked  889 non-null    object \n",
      "dtypes: float64(2), int64(3), object(2)\n",
      "memory usage: 48.9+ KB\n",
      "None\n",
      "<class 'pandas.core.frame.DataFrame'>\n",
      "RangeIndex: 418 entries, 0 to 417\n",
      "Data columns (total 7 columns):\n",
      " #   Column    Non-Null Count  Dtype  \n",
      "---  ------    --------------  -----  \n",
      " 0   Pclass    418 non-null    int64  \n",
      " 1   Sex       418 non-null    object \n",
      " 2   Age       332 non-null    float64\n",
      " 3   SibSp     418 non-null    int64  \n",
      " 4   Parch     418 non-null    int64  \n",
      " 5   Fare      417 non-null    float64\n",
      " 6   Embarked  418 non-null    object \n",
      "dtypes: float64(2), int64(3), object(2)\n",
      "memory usage: 23.0+ KB\n",
      "None\n",
      "Pclass      0\n",
      "Sex         0\n",
      "Age         0\n",
      "SibSp       0\n",
      "Parch       0\n",
      "Fare        0\n",
      "Embarked    0\n",
      "dtype: int64\n",
      "Pclass      0\n",
      "Sex         0\n",
      "Age         0\n",
      "SibSp       0\n",
      "Parch       0\n",
      "Fare        0\n",
      "Embarked    0\n",
      "dtype: int64\n",
      "0\n"
     ]
    },
    {
     "data": {
      "text/plain": [
       "\"\\n#추가.이상치 처리\\nsns.boxplot(data=X_train['Age'])\\nQ1 = X_train['Age'].quantile(0.25)\\nQ3 = X_train['Age'].quantile(0.75)\\nIQR = Q3-Q1\\n\\nX_train.loc[(X_train['Age']<Q1-1.5*IQR) | (X_train['Age']>Q3+1.5*IQR),'Age']=X_train['Age'].mean()\\nX_test.loc[(X_test['Age']<Q1-1.5*IQR) | (X_test['Age']>Q3+1.5*IQR),'Age']=X_test['Age'].mean()\\n\""
      ]
     },
     "execution_count": 4,
     "metadata": {},
     "output_type": "execute_result"
    }
   ],
   "source": [
    "#4.결측치 처리\n",
    "print(X_train.info())\n",
    "print(X_test.info())\n",
    "\n",
    "X_train['Age'] = X_train['Age'].fillna(X_train['Age'].mean())\n",
    "X_test['Age'] = X_test['Age'].fillna(X_train['Age'].mean())\n",
    "\n",
    "X_train['Embarked'] = X_train['Embarked'].fillna(X_train['Embarked'].value_counts().idxmax())\n",
    "X_test['Embarked'] = X_test['Embarked'].fillna(X_train['Embarked'].value_counts().idxmax())\n",
    "\n",
    "X_train['Fare'] = X_train['Fare'].fillna(X_train['Fare'].mean())\n",
    "X_test['Fare'] = X_test['Fare'].fillna(X_train['Fare'].mean())\n",
    "\n",
    "print(X_train.isna().sum())\n",
    "print(X_test.isna().sum())\n",
    "print(y_train.isna().sum())\n",
    "\n",
    "'''\n",
    "#추가.이상치 처리\n",
    "sns.boxplot(data=X_train['Age'])\n",
    "Q1 = X_train['Age'].quantile(0.25)\n",
    "Q3 = X_train['Age'].quantile(0.75)\n",
    "IQR = Q3-Q1\n",
    "\n",
    "X_train.loc[(X_train['Age']<Q1-1.5*IQR) | (X_train['Age']>Q3+1.5*IQR),'Age']=X_train['Age'].mean()\n",
    "X_test.loc[(X_test['Age']<Q1-1.5*IQR) | (X_test['Age']>Q3+1.5*IQR),'Age']=X_test['Age'].mean()\n",
    "'''"
   ]
  },
  {
   "cell_type": "code",
   "execution_count": 5,
   "id": "ab931bcb-e7bc-43b2-8bb2-bfb9ac913fb5",
   "metadata": {},
   "outputs": [
    {
     "name": "stdout",
     "output_type": "stream",
     "text": [
      "<class 'pandas.core.frame.DataFrame'>\n",
      "RangeIndex: 891 entries, 0 to 890\n",
      "Data columns (total 12 columns):\n",
      " #   Column      Non-Null Count  Dtype  \n",
      "---  ------      --------------  -----  \n",
      " 0   Age         891 non-null    float64\n",
      " 1   SibSp       891 non-null    int64  \n",
      " 2   Parch       891 non-null    int64  \n",
      " 3   Fare        891 non-null    float64\n",
      " 4   Sex_female  891 non-null    bool   \n",
      " 5   Sex_male    891 non-null    bool   \n",
      " 6   Embarked_C  891 non-null    bool   \n",
      " 7   Embarked_Q  891 non-null    bool   \n",
      " 8   Embarked_S  891 non-null    bool   \n",
      " 9   Pclass_1    891 non-null    bool   \n",
      " 10  Pclass_2    891 non-null    bool   \n",
      " 11  Pclass_3    891 non-null    bool   \n",
      "dtypes: bool(8), float64(2), int64(2)\n",
      "memory usage: 34.9 KB\n",
      "None\n",
      "<class 'pandas.core.frame.DataFrame'>\n",
      "RangeIndex: 418 entries, 0 to 417\n",
      "Data columns (total 12 columns):\n",
      " #   Column      Non-Null Count  Dtype  \n",
      "---  ------      --------------  -----  \n",
      " 0   Age         418 non-null    float64\n",
      " 1   SibSp       418 non-null    int64  \n",
      " 2   Parch       418 non-null    int64  \n",
      " 3   Fare        418 non-null    float64\n",
      " 4   Sex_female  418 non-null    bool   \n",
      " 5   Sex_male    418 non-null    bool   \n",
      " 6   Embarked_C  418 non-null    bool   \n",
      " 7   Embarked_Q  418 non-null    bool   \n",
      " 8   Embarked_S  418 non-null    bool   \n",
      " 9   Pclass_1    418 non-null    bool   \n",
      " 10  Pclass_2    418 non-null    bool   \n",
      " 11  Pclass_3    418 non-null    bool   \n",
      "dtypes: bool(8), float64(2), int64(2)\n",
      "memory usage: 16.5 KB\n",
      "None\n",
      "<class 'pandas.core.frame.DataFrame'>\n",
      "RangeIndex: 891 entries, 0 to 890\n",
      "Data columns (total 8 columns):\n",
      " #   Column      Non-Null Count  Dtype\n",
      "---  ------      --------------  -----\n",
      " 0   Sex_female  891 non-null    int32\n",
      " 1   Sex_male    891 non-null    int32\n",
      " 2   Embarked_C  891 non-null    int32\n",
      " 3   Embarked_Q  891 non-null    int32\n",
      " 4   Embarked_S  891 non-null    int32\n",
      " 5   Pclass_1    891 non-null    int32\n",
      " 6   Pclass_2    891 non-null    int32\n",
      " 7   Pclass_3    891 non-null    int32\n",
      "dtypes: int32(8)\n",
      "memory usage: 28.0 KB\n",
      "None\n",
      "<class 'pandas.core.frame.DataFrame'>\n",
      "RangeIndex: 418 entries, 0 to 417\n",
      "Data columns (total 8 columns):\n",
      " #   Column      Non-Null Count  Dtype\n",
      "---  ------      --------------  -----\n",
      " 0   Sex_female  418 non-null    int32\n",
      " 1   Sex_male    418 non-null    int32\n",
      " 2   Embarked_C  418 non-null    int32\n",
      " 3   Embarked_Q  418 non-null    int32\n",
      " 4   Embarked_S  418 non-null    int32\n",
      " 5   Pclass_1    418 non-null    int32\n",
      " 6   Pclass_2    418 non-null    int32\n",
      " 7   Pclass_3    418 non-null    int32\n",
      "dtypes: int32(8)\n",
      "memory usage: 13.2 KB\n",
      "None\n"
     ]
    }
   ],
   "source": [
    "#5.인코딩\n",
    "X_train = pd.get_dummies(X_train,columns=['Sex','Embarked','Pclass'])\n",
    "X_test = pd.get_dummies(X_test,columns=['Sex','Embarked','Pclass'])\n",
    "print(X_train.info())\n",
    "print(X_test.info())\n",
    "\n",
    "X_train_enc = X_train.select_dtypes('bool').astype('int')\n",
    "X_test_enc = X_test.select_dtypes('bool').astype('int')\n",
    "\n",
    "print(X_train_enc.info())\n",
    "print(X_test_enc.info())"
   ]
  },
  {
   "cell_type": "code",
   "execution_count": 6,
   "id": "6ba9b552-0097-4537-b2dc-97eb93b69460",
   "metadata": {},
   "outputs": [],
   "source": [
    "#6.스케일링\n",
    "from sklearn.preprocessing import StandardScaler\n",
    "\n",
    "X_train_num = X_train.select_dtypes(exclude='bool').copy()\n",
    "X_test_num = X_test.select_dtypes(exclude='bool').copy()\n",
    "\n",
    "scale = StandardScaler().fit(X_train_num)\n",
    "\n",
    "X_train_std = scale.transform(X_train_num)\n",
    "X_test_std = scale.transform(X_test_num)\n",
    "\n",
    "X_train_std = pd.DataFrame(X_train_std,columns=['Age','SibSp','Parch','Fare'])\n",
    "X_test_std = pd.DataFrame(X_test_std,columns=['Age','SibSp','Parch','Fare'])\n",
    "\n",
    "X_train = pd.concat([X_train_std,X_train_enc],axis=1)\n",
    "X_test = pd.concat([X_test_std,X_test_enc],axis=1)"
   ]
  },
  {
   "cell_type": "code",
   "execution_count": 7,
   "id": "a48a9e7d-4969-43f2-bbba-1400aaeedc31",
   "metadata": {
    "scrolled": true
   },
   "outputs": [
    {
     "name": "stdout",
     "output_type": "stream",
     "text": [
      "Optimization terminated successfully.\n",
      "         Current function value: 0.444890\n",
      "         Iterations 6\n",
      "                           Logit Regression Results                           \n",
      "==============================================================================\n",
      "Dep. Variable:               Survived   No. Observations:                  891\n",
      "Model:                          Logit   Df Residuals:                      882\n",
      "Method:                           MLE   Df Model:                            8\n",
      "Date:                Thu, 23 May 2024   Pseudo R-squ.:                  0.3319\n",
      "Time:                        21:01:59   Log-Likelihood:                -396.40\n",
      "converged:                       True   LL-Null:                       -593.33\n",
      "Covariance Type:            nonrobust   LLR p-value:                 3.851e-80\n",
      "==============================================================================\n",
      "                 coef    std err          z      P>|z|      [0.025      0.975]\n",
      "------------------------------------------------------------------------------\n",
      "Age           -0.4902      0.101     -4.851      0.000      -0.688      -0.292\n",
      "SibSp         -0.3112      0.118     -2.647      0.008      -0.542      -0.081\n",
      "Parch         -0.0697      0.097     -0.720      0.471      -0.259       0.120\n",
      "Fare           0.1150      0.128      0.895      0.371      -0.137       0.367\n",
      "Sex_female     2.5921      0.197     13.131      0.000       2.205       2.979\n",
      "Embarked_Q    -0.4179      0.351     -1.191      0.234      -1.106       0.270\n",
      "Embarked_S    -0.9480      0.161     -5.895      0.000      -1.263      -0.633\n",
      "Pclass_1       0.4433      0.245      1.808      0.071      -0.037       0.924\n",
      "Pclass_3      -1.5909      0.197     -8.059      0.000      -1.978      -1.204\n",
      "==============================================================================\n"
     ]
    }
   ],
   "source": [
    "#7.특성 선택\n",
    "# SibSp + Parch = 동승한 가족 수 \"새로운 컬럼을 추가하는 방법도 고려해볼만하다.\" \n",
    "import statsmodels.api as sm \n",
    "\n",
    "x = X_train.drop(columns=['Sex_male','Embarked_C','Pclass_2'])\n",
    "y = y_train\n",
    "\n",
    "model = sm.Logit(y,x)\n",
    "model_fit = model.fit()\n",
    "print(model_fit.summary())"
   ]
  },
  {
   "cell_type": "code",
   "execution_count": 8,
   "id": "0fb3e24d-c110-4e51-8868-981c1543d52e",
   "metadata": {},
   "outputs": [],
   "source": [
    "#8.데이터 분리하기\n",
    "x = X_train[['Age','SibSp','Sex_female','Embarked_S','Pclass_3']]\n",
    "y = y_train\n",
    "test = X_test[['Age','SibSp','Sex_female','Embarked_S','Pclass_3']]\n",
    "\n",
    "from sklearn.model_selection import train_test_split\n",
    "\n",
    "X1, X2, y1, y2 = train_test_split(x,y,train_size=0.7,test_size=0.3,random_state=999)"
   ]
  },
  {
   "cell_type": "code",
   "execution_count": 57,
   "id": "2f4a2184-da62-49b2-a10e-d876debd593a",
   "metadata": {},
   "outputs": [],
   "source": [
    "#9.모델 학습 및 예측\n",
    "from sklearn.linear_model import LogisticRegression\n",
    "\n",
    "#LogisticRegression\n",
    "model_lr = LogisticRegression(random_state=999)\n",
    "model_lr.fit(X1,y1)\n",
    "y_predict_lr = model_lr.predict(X2)"
   ]
  },
  {
   "cell_type": "code",
   "execution_count": 59,
   "id": "2ca3a8f3-e963-4f64-a9e4-328c46387ca3",
   "metadata": {},
   "outputs": [
    {
     "name": "stdout",
     "output_type": "stream",
     "text": [
      "[[156  15]\n",
      " [ 39  58]]\n",
      "0.7985074626865671\n",
      "0.6823529411764705\n",
      "0.8253752939048652\n"
     ]
    },
    {
     "data": {
      "text/plain": [
       "\"\\n# confusion_matrix 시각화\\nimport seaborn as sns\\nimport matplotlib.pyplot as plt\\ncm = confusion_matrix(y2,y_predict)\\n#plt.figure(figsize=(5,4))\\nax = sns.heatmap(cm,annot=True)\\nplt.xlabel('Prediction')\\nplt.ylabel('Real data')\\nplt.show()\\nprint(cm)\\n\""
      ]
     },
     "execution_count": 59,
     "metadata": {},
     "output_type": "execute_result"
    }
   ],
   "source": [
    "#10.평가\n",
    "from sklearn.metrics import accuracy_score, confusion_matrix, f1_score, roc_curve, roc_auc_score\n",
    "\n",
    "print(confusion_matrix(y2,y_predict_lr)) #혼동행렬\n",
    "print(accuracy_score(y2,y_predict_lr)) #정확도\n",
    "print(f1_score(y2,y_predict_lr)) #F1-스코어\n",
    "\n",
    "probas_lr = model_lr.predict_proba(X2)\n",
    "print(roc_auc_score(y2,probas_lr[:,1])) #roc점수\n",
    "\n",
    "'''\n",
    "# roc_curve 시각화\n",
    "import matplotlib.pyplot as plt\n",
    "fpr, tpr, thresholds = roc_curve(y2, probas[:,1])\n",
    "plt.style.use('fivethirtyeight')\n",
    "fig, ax = plt.subplots()\n",
    "fig.set_size_inches(4.8, 5)\n",
    "ax.step(fpr, tpr, 'gray')\n",
    "ax.fill_between(fpr, tpr, 0, color='skyblue', alpha=0.8)\n",
    "ax.set_xlabel('False Positive Rate')\n",
    "ax.set_ylabel('True Positive Rate')\n",
    "ax.set_facecolor('xkcd:white')\n",
    "plt.show()\n",
    "'''\n",
    "\n",
    "'''\n",
    "# confusion_matrix 시각화\n",
    "import seaborn as sns\n",
    "import matplotlib.pyplot as plt\n",
    "cm = confusion_matrix(y2,y_predict)\n",
    "#plt.figure(figsize=(5,4))\n",
    "ax = sns.heatmap(cm,annot=True)\n",
    "plt.xlabel('Prediction')\n",
    "plt.ylabel('Real data')\n",
    "plt.show()\n",
    "print(cm)\n",
    "'''"
   ]
  },
  {
   "cell_type": "code",
   "execution_count": 11,
   "id": "3a67961c-afea-4ed0-a93c-94144df2e2e8",
   "metadata": {},
   "outputs": [],
   "source": [
    "#11.제출\n",
    "model = LogisticRegression()\n",
    "model.fit(x,y)\n",
    "y_predict = model.predict(test)\n",
    "\n",
    "obj = {'PassengerId':PassengerId,'Survived':y_predict}\n",
    "result = pd.DataFrame(obj)\n",
    "result.to_csv('result/result.csv', index = False)"
   ]
  }
 ],
 "metadata": {
  "kernelspec": {
   "display_name": "Python 3 (ipykernel)",
   "language": "python",
   "name": "python3"
  },
  "language_info": {
   "codemirror_mode": {
    "name": "ipython",
    "version": 3
   },
   "file_extension": ".py",
   "mimetype": "text/x-python",
   "name": "python",
   "nbconvert_exporter": "python",
   "pygments_lexer": "ipython3",
   "version": "3.11.7"
  }
 },
 "nbformat": 4,
 "nbformat_minor": 5
}
