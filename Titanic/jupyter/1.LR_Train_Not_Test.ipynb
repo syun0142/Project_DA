{
 "cells": [
  {
   "cell_type": "code",
   "execution_count": 1,
   "id": "a907e603-1c5a-4d0e-85a5-c6cbe0ceef22",
   "metadata": {},
   "outputs": [],
   "source": [
    "#1.데이터 로드\n",
    "import pandas as pd\n",
    "\n",
    "df = pd.read_csv('data/train.csv')\n",
    "#print(df.head())"
   ]
  },
  {
   "cell_type": "code",
   "execution_count": 2,
   "id": "d17c3236-fbd8-41a3-b846-ed79a4342b56",
   "metadata": {},
   "outputs": [],
   "source": [
    "#2.불필요 컬럼 삭제\n",
    "\n",
    "#print(df.info())\n",
    "#print(df.select_dtypes('object').nunique())\n",
    "#print(df['Cabin'].value_counts())\n",
    "#sns.countplot(data=df, x='Cabin')\n",
    "\n",
    "df = df.drop(columns=['PassengerId','Name','Ticket','Cabin'])"
   ]
  },
  {
   "cell_type": "code",
   "execution_count": 3,
   "id": "51e1f990-1822-4d10-be9a-500ae5b77332",
   "metadata": {},
   "outputs": [],
   "source": [
    "#3.결측치 처리\n",
    "\n",
    "#print(df.info())\n",
    "#print(df['Embarked'].value_counts())\n",
    "#sns.countplot(data=df, x='Embarked')\n",
    "\n",
    "df['Embarked'] = df['Embarked'].fillna('S') #Embarked 탑승지역은 S가 압도적으로 많고, 결측치 수가 적으므로 S로 대체\n",
    "df = df.dropna() #평균이나 중앙값으로 대체하기에는 Age가 한쪽으로 몰리게 되므로, 결측치 제거 "
   ]
  },
  {
   "cell_type": "code",
   "execution_count": 4,
   "id": "58aaf179-f608-4137-bac0-d1a6271b0b0e",
   "metadata": {},
   "outputs": [
    {
     "data": {
      "text/plain": [
       "\"\\ndef graph(variable):\\n    survived = df[df['Survived']==1][variable].value_counts()\\n    dead = df[df['Survived']==0][variable].value_counts()\\n    result = pd.DataFrame([survived,dead])\\n    result.index = ['Survived','Dead']\\n    result.T.plot(kind='bar', color=['skyblue','gray'], rot=0, figsize=(8,6))\\n\""
      ]
     },
     "execution_count": 4,
     "metadata": {},
     "output_type": "execute_result"
    }
   ],
   "source": [
    "'''\n",
    "def graph(variable):\n",
    "    survived = df[df['Survived']==1][variable].value_counts()\n",
    "    dead = df[df['Survived']==0][variable].value_counts()\n",
    "    result = pd.DataFrame([survived,dead])\n",
    "    result.index = ['Survived','Dead']\n",
    "    result.T.plot(kind='bar', color=['skyblue','gray'], rot=0, figsize=(8,6))\n",
    "'''"
   ]
  },
  {
   "cell_type": "code",
   "execution_count": 5,
   "id": "e15501ce-33b8-4ac6-b083-c6233177a9e5",
   "metadata": {},
   "outputs": [],
   "source": [
    "#4.인코딩\n",
    "df = pd.get_dummies(df,columns=['Sex'])\n",
    "df = pd.get_dummies(df,columns=['Embarked'])\n",
    "df = pd.get_dummies(df,columns=['Pclass'])\n",
    "\n",
    "df['Sex_female'] = df['Sex_female'].astype('int')\n",
    "df['Sex_male'] = df['Sex_male'].astype('int')\n",
    "df['Embarked_C'] = df['Embarked_C'].astype('int')\n",
    "df['Embarked_Q'] = df['Embarked_Q'].astype('int')\n",
    "df['Embarked_S'] = df['Embarked_S'].astype('int')\n",
    "df['Pclass_1'] = df['Pclass_1'].astype('int')\n",
    "df['Pclass_2'] = df['Pclass_2'].astype('int')\n",
    "df['Pclass_3'] = df['Pclass_3'].astype('int')\n",
    "\n",
    "#df.info()\n",
    "#df = df.drop(columns=['Sex_male','Embarked_Q'])"
   ]
  },
  {
   "cell_type": "code",
   "execution_count": 6,
   "id": "9b62ceb7-8e2d-45ee-9389-9900783296f5",
   "metadata": {
    "scrolled": true
   },
   "outputs": [
    {
     "name": "stdout",
     "output_type": "stream",
     "text": [
      "Optimization terminated successfully.\n",
      "         Current function value: 0.449733\n",
      "         Iterations 6\n",
      "                           Logit Regression Results                           \n",
      "==============================================================================\n",
      "Dep. Variable:               Survived   No. Observations:                  714\n",
      "Model:                          Logit   Df Residuals:                      705\n",
      "Method:                           MLE   Df Model:                            8\n",
      "Date:                Thu, 23 May 2024   Pseudo R-squ.:                  0.3342\n",
      "Time:                        14:13:07   Log-Likelihood:                -321.11\n",
      "converged:                       True   LL-Null:                       -482.26\n",
      "Covariance Type:            nonrobust   LLR p-value:                 7.340e-65\n",
      "==============================================================================\n",
      "                 coef    std err          z      P>|z|      [0.025      0.975]\n",
      "------------------------------------------------------------------------------\n",
      "Age           -0.0239      0.005     -4.675      0.000      -0.034      -0.014\n",
      "SibSp         -0.2810      0.125     -2.239      0.025      -0.527      -0.035\n",
      "Parch         -0.0844      0.121     -0.698      0.485      -0.321       0.153\n",
      "Fare           0.0054      0.003      1.927      0.054   -9.28e-05       0.011\n",
      "Sex_female     2.6605      0.217     12.258      0.000       2.235       3.086\n",
      "Embarked_C     0.5816      0.262      2.224      0.026       0.069       1.094\n",
      "Embarked_Q    -0.3666      0.542     -0.676      0.499      -1.430       0.696\n",
      "Pclass_2      -0.4994      0.237     -2.110      0.035      -0.963      -0.035\n",
      "Pclass_3      -1.5865      0.218     -7.293      0.000      -2.013      -1.160\n",
      "==============================================================================\n"
     ]
    }
   ],
   "source": [
    "#5.모델에 학습할 독립변수 추출\n",
    "import statsmodels.api as sm\n",
    "\n",
    "x = df[['Age','SibSp','Parch','Fare','Sex_female','Embarked_C','Embarked_Q','Pclass_2','Pclass_3']]\n",
    "y = df['Survived']\n",
    "\n",
    "model = sm.Logit(y,x)\n",
    "model_fit = model.fit()\n",
    "print(model_fit.summary())"
   ]
  },
  {
   "cell_type": "code",
   "execution_count": 7,
   "id": "d4f300d9-e24b-47f4-8777-2e02525b397b",
   "metadata": {},
   "outputs": [],
   "source": [
    "#6.데이터 분리하기\n",
    "x = df[['Age','SibSp','Fare','Sex_female','Embarked_C','Pclass_3']]\n",
    "y = df['Survived']\n",
    "\n",
    "from sklearn.model_selection import train_test_split\n",
    "\n",
    "x_train, x_test, y_train, y_test = train_test_split(x,y,train_size=0.7,test_size=0.3,random_state=0)"
   ]
  },
  {
   "cell_type": "code",
   "execution_count": 8,
   "id": "005130ff-e5a4-41c8-a963-b3709ab0aa59",
   "metadata": {},
   "outputs": [
    {
     "data": {
      "text/html": [
       "<style>#sk-container-id-1 {color: black;background-color: white;}#sk-container-id-1 pre{padding: 0;}#sk-container-id-1 div.sk-toggleable {background-color: white;}#sk-container-id-1 label.sk-toggleable__label {cursor: pointer;display: block;width: 100%;margin-bottom: 0;padding: 0.3em;box-sizing: border-box;text-align: center;}#sk-container-id-1 label.sk-toggleable__label-arrow:before {content: \"▸\";float: left;margin-right: 0.25em;color: #696969;}#sk-container-id-1 label.sk-toggleable__label-arrow:hover:before {color: black;}#sk-container-id-1 div.sk-estimator:hover label.sk-toggleable__label-arrow:before {color: black;}#sk-container-id-1 div.sk-toggleable__content {max-height: 0;max-width: 0;overflow: hidden;text-align: left;background-color: #f0f8ff;}#sk-container-id-1 div.sk-toggleable__content pre {margin: 0.2em;color: black;border-radius: 0.25em;background-color: #f0f8ff;}#sk-container-id-1 input.sk-toggleable__control:checked~div.sk-toggleable__content {max-height: 200px;max-width: 100%;overflow: auto;}#sk-container-id-1 input.sk-toggleable__control:checked~label.sk-toggleable__label-arrow:before {content: \"▾\";}#sk-container-id-1 div.sk-estimator input.sk-toggleable__control:checked~label.sk-toggleable__label {background-color: #d4ebff;}#sk-container-id-1 div.sk-label input.sk-toggleable__control:checked~label.sk-toggleable__label {background-color: #d4ebff;}#sk-container-id-1 input.sk-hidden--visually {border: 0;clip: rect(1px 1px 1px 1px);clip: rect(1px, 1px, 1px, 1px);height: 1px;margin: -1px;overflow: hidden;padding: 0;position: absolute;width: 1px;}#sk-container-id-1 div.sk-estimator {font-family: monospace;background-color: #f0f8ff;border: 1px dotted black;border-radius: 0.25em;box-sizing: border-box;margin-bottom: 0.5em;}#sk-container-id-1 div.sk-estimator:hover {background-color: #d4ebff;}#sk-container-id-1 div.sk-parallel-item::after {content: \"\";width: 100%;border-bottom: 1px solid gray;flex-grow: 1;}#sk-container-id-1 div.sk-label:hover label.sk-toggleable__label {background-color: #d4ebff;}#sk-container-id-1 div.sk-serial::before {content: \"\";position: absolute;border-left: 1px solid gray;box-sizing: border-box;top: 0;bottom: 0;left: 50%;z-index: 0;}#sk-container-id-1 div.sk-serial {display: flex;flex-direction: column;align-items: center;background-color: white;padding-right: 0.2em;padding-left: 0.2em;position: relative;}#sk-container-id-1 div.sk-item {position: relative;z-index: 1;}#sk-container-id-1 div.sk-parallel {display: flex;align-items: stretch;justify-content: center;background-color: white;position: relative;}#sk-container-id-1 div.sk-item::before, #sk-container-id-1 div.sk-parallel-item::before {content: \"\";position: absolute;border-left: 1px solid gray;box-sizing: border-box;top: 0;bottom: 0;left: 50%;z-index: -1;}#sk-container-id-1 div.sk-parallel-item {display: flex;flex-direction: column;z-index: 1;position: relative;background-color: white;}#sk-container-id-1 div.sk-parallel-item:first-child::after {align-self: flex-end;width: 50%;}#sk-container-id-1 div.sk-parallel-item:last-child::after {align-self: flex-start;width: 50%;}#sk-container-id-1 div.sk-parallel-item:only-child::after {width: 0;}#sk-container-id-1 div.sk-dashed-wrapped {border: 1px dashed gray;margin: 0 0.4em 0.5em 0.4em;box-sizing: border-box;padding-bottom: 0.4em;background-color: white;}#sk-container-id-1 div.sk-label label {font-family: monospace;font-weight: bold;display: inline-block;line-height: 1.2em;}#sk-container-id-1 div.sk-label-container {text-align: center;}#sk-container-id-1 div.sk-container {/* jupyter's `normalize.less` sets `[hidden] { display: none; }` but bootstrap.min.css set `[hidden] { display: none !important; }` so we also need the `!important` here to be able to override the default hidden behavior on the sphinx rendered scikit-learn.org. See: https://github.com/scikit-learn/scikit-learn/issues/21755 */display: inline-block !important;position: relative;}#sk-container-id-1 div.sk-text-repr-fallback {display: none;}</style><div id=\"sk-container-id-1\" class=\"sk-top-container\"><div class=\"sk-text-repr-fallback\"><pre>LogisticRegression()</pre><b>In a Jupyter environment, please rerun this cell to show the HTML representation or trust the notebook. <br />On GitHub, the HTML representation is unable to render, please try loading this page with nbviewer.org.</b></div><div class=\"sk-container\" hidden><div class=\"sk-item\"><div class=\"sk-estimator sk-toggleable\"><input class=\"sk-toggleable__control sk-hidden--visually\" id=\"sk-estimator-id-1\" type=\"checkbox\" checked><label for=\"sk-estimator-id-1\" class=\"sk-toggleable__label sk-toggleable__label-arrow\">LogisticRegression</label><div class=\"sk-toggleable__content\"><pre>LogisticRegression()</pre></div></div></div></div></div>"
      ],
      "text/plain": [
       "LogisticRegression()"
      ]
     },
     "execution_count": 8,
     "metadata": {},
     "output_type": "execute_result"
    }
   ],
   "source": [
    "#7.모델 학습(train)\n",
    "from sklearn.linear_model import LogisticRegression\n",
    "\n",
    "model = LogisticRegression(random_state=999)\n",
    "model.fit(x_train,y_train)"
   ]
  },
  {
   "cell_type": "code",
   "execution_count": 9,
   "id": "269c729b-3c6e-4e4d-8684-b813498fd192",
   "metadata": {},
   "outputs": [
    {
     "name": "stdout",
     "output_type": "stream",
     "text": [
      "0.8186046511627907\n"
     ]
    }
   ],
   "source": [
    "#8.모델 테스트(test) 및 평가\n",
    "from sklearn.metrics import accuracy_score, confusion_matrix\n",
    "\n",
    "y_predict = model.predict(x_test)\n",
    "print(accuracy_score(y_predict, y_test))"
   ]
  }
 ],
 "metadata": {
  "kernelspec": {
   "display_name": "Python 3 (ipykernel)",
   "language": "python",
   "name": "python3"
  },
  "language_info": {
   "codemirror_mode": {
    "name": "ipython",
    "version": 3
   },
   "file_extension": ".py",
   "mimetype": "text/x-python",
   "name": "python",
   "nbconvert_exporter": "python",
   "pygments_lexer": "ipython3",
   "version": "3.11.7"
  }
 },
 "nbformat": 4,
 "nbformat_minor": 5
}
